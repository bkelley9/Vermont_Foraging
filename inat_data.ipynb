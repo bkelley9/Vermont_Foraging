{
 "cells": [
  {
   "cell_type": "code",
   "execution_count": 2,
   "id": "3819a2d9",
   "metadata": {},
   "outputs": [],
   "source": [
    "import requests\n",
    "import time\n",
    "import pandas as pd\n",
    "import json\n",
    "import os\n",
    "import pickle"
   ]
  },
  {
   "cell_type": "code",
   "execution_count": 3,
   "id": "4862c845",
   "metadata": {},
   "outputs": [],
   "source": [
    "vermont_edibles = pd.read_csv(\"vermont_edibles.csv\")\n",
    "\n",
    "species = vermont_edibles['scientific_name'].drop_duplicates().to_list()"
   ]
  },
  {
   "cell_type": "code",
   "execution_count": 4,
   "id": "6f57dc72",
   "metadata": {},
   "outputs": [
    {
     "data": {
      "text/plain": [
       "['Abies_balsamea.json', 'Abutilon_theophrasti.json', 'Acer_negundo.json']"
      ]
     },
     "execution_count": 4,
     "metadata": {},
     "output_type": "execute_result"
    }
   ],
   "source": [
    "species_dirs = os.listdir(\"species_data\")[:3]\n",
    "genus_vals = [species for species in species_dirs if \"_\" not in species]\n",
    "species_dirs"
   ]
  },
  {
   "cell_type": "code",
   "execution_count": 5,
   "id": "774ec498",
   "metadata": {},
   "outputs": [],
   "source": [
    "def load_species_data(save_dir='species_data'):\n",
    "    \"\"\"Load all previously saved species data\"\"\"\n",
    "    all_data = []\n",
    "    \n",
    "    if not os.path.exists(save_dir):\n",
    "        return all_data\n",
    "    \n",
    "    for filename in os.listdir(save_dir):\n",
    "        if filename.endswith('.json'):\n",
    "            species_name = filename.replace('.json', '').replace('_', ' ')\n",
    "            filepath = os.path.join(save_dir, filename)\n",
    "            with open(filepath, 'r') as f:\n",
    "                all_data[species_name] = json.load(f)\n",
    "    \n",
    "    return all_data\n",
    "\n",
    "def load_single_species(species = \"Acorus.json\"):\n",
    "    species_data = []\n",
    "\n",
    "    path = os.path.join(\"species_data\", species)\n",
    "\n",
    "    if not os.path.exists(path):\n",
    "        return species_data\n",
    "    \n",
    "    if species.endswith('.json'):\n",
    "        with open(path, 'r') as f:\n",
    "            species_data = json.load(f)\n",
    "    \n",
    "    return species_data"
   ]
  },
  {
   "cell_type": "code",
   "execution_count": 6,
   "id": "24f529e9",
   "metadata": {},
   "outputs": [],
   "source": [
    "with open('master_data.pkl', 'rb') as f:\n",
    "    master = pickle.load(f)\n",
    "\n",
    "all_edibles = pd.concat(\n",
    "\t[df.assign(species=species) for species, df in master.items()],\n",
    "    ignore_index=True\n",
    ")\n",
    "\n",
    "all_edibles.drop_duplicates(subset = 'uuid', keep='first', inplace=True)"
   ]
  },
  {
   "cell_type": "code",
   "execution_count": 7,
   "id": "f0cf66b6",
   "metadata": {},
   "outputs": [],
   "source": [
    "sample = vermont_edibles.sample(50)\n",
    "season = [\"winter\", \"fall\"]\n",
    "sample = sample[sample['season'].str.contains(\"|\".join(season))]\n",
    "\n",
    "all_edibles_sampled = all_edibles.merge(sample, on = \"scientific_name\", how=\"inner\")"
   ]
  },
  {
   "cell_type": "code",
   "execution_count": 8,
   "id": "4026d0c3",
   "metadata": {},
   "outputs": [
    {
     "data": {
      "application/vnd.microsoft.datawrangler.viewer.v0+json": {
       "columns": [
        {
         "name": "index",
         "rawType": "int64",
         "type": "integer"
        },
        {
         "name": "plant_part",
         "rawType": "object",
         "type": "string"
        }
       ],
       "ref": "fdf055e3-952c-4884-b1d2-bf53b6dae0dc",
       "rows": [
        [
         "0",
         "shoot"
        ],
        [
         "1",
         "leafy_greens"
        ],
        [
         "6",
         "rhizome"
        ],
        [
         "9",
         "berry"
        ],
        [
         "14",
         "peeled_shoot"
        ],
        [
         "15",
         "steeped_beverage"
        ],
        [
         "28",
         "inner_bark"
        ],
        [
         "29",
         "cambium"
        ],
        [
         "31",
         "pollen"
        ],
        [
         "37",
         "pod"
        ],
        [
         "42",
         "seasoning"
        ],
        [
         "46",
         "nut"
        ],
        [
         "48",
         "sap"
        ],
        [
         "51",
         "oil"
        ],
        [
         "74",
         "flour"
        ],
        [
         "81",
         "flower"
        ],
        [
         "82",
         "large_fleshy_fruit"
        ],
        [
         "111",
         "seed/grain"
        ],
        [
         "118",
         "bud"
        ],
        [
         "273",
         "lateral_shoot"
        ],
        [
         "274",
         "heart"
        ],
        [
         "279",
         "tuber"
        ],
        [
         "339",
         "bulb"
        ],
        [
         "364",
         "roots"
        ],
        [
         "455",
         "petiole"
        ],
        [
         "1027",
         "pith"
        ]
       ],
       "shape": {
        "columns": 1,
        "rows": 26
       }
      },
      "text/plain": [
       "0                    shoot\n",
       "1             leafy_greens\n",
       "6                  rhizome\n",
       "9                    berry\n",
       "14            peeled_shoot\n",
       "15        steeped_beverage\n",
       "28              inner_bark\n",
       "29                 cambium\n",
       "31                  pollen\n",
       "37                     pod\n",
       "42               seasoning\n",
       "46                     nut\n",
       "48                     sap\n",
       "51                     oil\n",
       "74                   flour\n",
       "81                  flower\n",
       "82      large_fleshy_fruit\n",
       "111             seed/grain\n",
       "118                    bud\n",
       "273          lateral_shoot\n",
       "274                  heart\n",
       "279                  tuber\n",
       "339                   bulb\n",
       "364                  roots\n",
       "455                petiole\n",
       "1027                  pith\n",
       "Name: plant_part, dtype: object"
      ]
     },
     "execution_count": 8,
     "metadata": {},
     "output_type": "execute_result"
    }
   ],
   "source": [
    "unique_edible_parts = vermont_edibles['plant_part'].drop_duplicates()\n",
    "unique_edible_parts"
   ]
  },
  {
   "cell_type": "code",
   "execution_count": 9,
   "id": "bf4880f9",
   "metadata": {},
   "outputs": [],
   "source": [
    "len(all_edibles)\n",
    "species_master = all_edibles[['scientific_name', 'common_name', 'species']].drop_duplicates()"
   ]
  },
  {
   "cell_type": "code",
   "execution_count": null,
   "id": "405b0c9b",
   "metadata": {},
   "outputs": [
    {
     "ename": "KeyError",
     "evalue": "1",
     "output_type": "error",
     "traceback": [
      "\u001b[1;31m---------------------------------------------------------------------------\u001b[0m",
      "\u001b[1;31mKeyError\u001b[0m                                  Traceback (most recent call last)",
      "File \u001b[1;32mc:\\Users\\benke\\anaconda3\\Lib\\site-packages\\pandas\\core\\indexes\\base.py:3805\u001b[0m, in \u001b[0;36mIndex.get_loc\u001b[1;34m(self, key)\u001b[0m\n\u001b[0;32m   3804\u001b[0m \u001b[38;5;28;01mtry\u001b[39;00m:\n\u001b[1;32m-> 3805\u001b[0m     \u001b[38;5;28;01mreturn\u001b[39;00m \u001b[38;5;28mself\u001b[39m\u001b[38;5;241m.\u001b[39m_engine\u001b[38;5;241m.\u001b[39mget_loc(casted_key)\n\u001b[0;32m   3806\u001b[0m \u001b[38;5;28;01mexcept\u001b[39;00m \u001b[38;5;167;01mKeyError\u001b[39;00m \u001b[38;5;28;01mas\u001b[39;00m err:\n",
      "File \u001b[1;32mindex.pyx:167\u001b[0m, in \u001b[0;36mpandas._libs.index.IndexEngine.get_loc\u001b[1;34m()\u001b[0m\n",
      "File \u001b[1;32mindex.pyx:196\u001b[0m, in \u001b[0;36mpandas._libs.index.IndexEngine.get_loc\u001b[1;34m()\u001b[0m\n",
      "File \u001b[1;32mpandas\\\\_libs\\\\hashtable_class_helper.pxi:7081\u001b[0m, in \u001b[0;36mpandas._libs.hashtable.PyObjectHashTable.get_item\u001b[1;34m()\u001b[0m\n",
      "File \u001b[1;32mpandas\\\\_libs\\\\hashtable_class_helper.pxi:7089\u001b[0m, in \u001b[0;36mpandas._libs.hashtable.PyObjectHashTable.get_item\u001b[1;34m()\u001b[0m\n",
      "\u001b[1;31mKeyError\u001b[0m: 1",
      "\nThe above exception was the direct cause of the following exception:\n",
      "\u001b[1;31mKeyError\u001b[0m                                  Traceback (most recent call last)",
      "Cell \u001b[1;32mIn[17], line 3\u001b[0m\n\u001b[0;32m      1\u001b[0m test \u001b[38;5;241m=\u001b[39m pd\u001b[38;5;241m.\u001b[39mread_csv(\u001b[38;5;124m\"\u001b[39m\u001b[38;5;124msaved_coords.csv\u001b[39m\u001b[38;5;124m\"\u001b[39m)\n\u001b[0;32m      2\u001b[0m row \u001b[38;5;241m=\u001b[39m test[test[\u001b[38;5;124m'\u001b[39m\u001b[38;5;124mname\u001b[39m\u001b[38;5;124m'\u001b[39m] \u001b[38;5;241m==\u001b[39m \u001b[38;5;124m\"\u001b[39m\u001b[38;5;124mVermont\u001b[39m\u001b[38;5;124m\"\u001b[39m]\n\u001b[1;32m----> 3\u001b[0m row[\u001b[38;5;241m1\u001b[39m]\n",
      "File \u001b[1;32mc:\\Users\\benke\\anaconda3\\Lib\\site-packages\\pandas\\core\\frame.py:4102\u001b[0m, in \u001b[0;36mDataFrame.__getitem__\u001b[1;34m(self, key)\u001b[0m\n\u001b[0;32m   4100\u001b[0m \u001b[38;5;28;01mif\u001b[39;00m \u001b[38;5;28mself\u001b[39m\u001b[38;5;241m.\u001b[39mcolumns\u001b[38;5;241m.\u001b[39mnlevels \u001b[38;5;241m>\u001b[39m \u001b[38;5;241m1\u001b[39m:\n\u001b[0;32m   4101\u001b[0m     \u001b[38;5;28;01mreturn\u001b[39;00m \u001b[38;5;28mself\u001b[39m\u001b[38;5;241m.\u001b[39m_getitem_multilevel(key)\n\u001b[1;32m-> 4102\u001b[0m indexer \u001b[38;5;241m=\u001b[39m \u001b[38;5;28mself\u001b[39m\u001b[38;5;241m.\u001b[39mcolumns\u001b[38;5;241m.\u001b[39mget_loc(key)\n\u001b[0;32m   4103\u001b[0m \u001b[38;5;28;01mif\u001b[39;00m is_integer(indexer):\n\u001b[0;32m   4104\u001b[0m     indexer \u001b[38;5;241m=\u001b[39m [indexer]\n",
      "File \u001b[1;32mc:\\Users\\benke\\anaconda3\\Lib\\site-packages\\pandas\\core\\indexes\\base.py:3812\u001b[0m, in \u001b[0;36mIndex.get_loc\u001b[1;34m(self, key)\u001b[0m\n\u001b[0;32m   3807\u001b[0m     \u001b[38;5;28;01mif\u001b[39;00m \u001b[38;5;28misinstance\u001b[39m(casted_key, \u001b[38;5;28mslice\u001b[39m) \u001b[38;5;129;01mor\u001b[39;00m (\n\u001b[0;32m   3808\u001b[0m         \u001b[38;5;28misinstance\u001b[39m(casted_key, abc\u001b[38;5;241m.\u001b[39mIterable)\n\u001b[0;32m   3809\u001b[0m         \u001b[38;5;129;01mand\u001b[39;00m \u001b[38;5;28many\u001b[39m(\u001b[38;5;28misinstance\u001b[39m(x, \u001b[38;5;28mslice\u001b[39m) \u001b[38;5;28;01mfor\u001b[39;00m x \u001b[38;5;129;01min\u001b[39;00m casted_key)\n\u001b[0;32m   3810\u001b[0m     ):\n\u001b[0;32m   3811\u001b[0m         \u001b[38;5;28;01mraise\u001b[39;00m InvalidIndexError(key)\n\u001b[1;32m-> 3812\u001b[0m     \u001b[38;5;28;01mraise\u001b[39;00m \u001b[38;5;167;01mKeyError\u001b[39;00m(key) \u001b[38;5;28;01mfrom\u001b[39;00m\u001b[38;5;250m \u001b[39m\u001b[38;5;21;01merr\u001b[39;00m\n\u001b[0;32m   3813\u001b[0m \u001b[38;5;28;01mexcept\u001b[39;00m \u001b[38;5;167;01mTypeError\u001b[39;00m:\n\u001b[0;32m   3814\u001b[0m     \u001b[38;5;66;03m# If we have a listlike key, _check_indexing_error will raise\u001b[39;00m\n\u001b[0;32m   3815\u001b[0m     \u001b[38;5;66;03m#  InvalidIndexError. Otherwise we fall through and re-raise\u001b[39;00m\n\u001b[0;32m   3816\u001b[0m     \u001b[38;5;66;03m#  the TypeError.\u001b[39;00m\n\u001b[0;32m   3817\u001b[0m     \u001b[38;5;28mself\u001b[39m\u001b[38;5;241m.\u001b[39m_check_indexing_error(key)\n",
      "\u001b[1;31mKeyError\u001b[0m: 1"
     ]
    }
   ],
   "source": [
    "test = pd.read_csv(\"saved_coords.csv\")\n",
    "row = test[test['name'] == \"Vermont\"]"
   ]
  }
 ],
 "metadata": {
  "kernelspec": {
   "display_name": "base",
   "language": "python",
   "name": "python3"
  },
  "language_info": {
   "codemirror_mode": {
    "name": "ipython",
    "version": 3
   },
   "file_extension": ".py",
   "mimetype": "text/x-python",
   "name": "python",
   "nbconvert_exporter": "python",
   "pygments_lexer": "ipython3",
   "version": "3.13.5"
  }
 },
 "nbformat": 4,
 "nbformat_minor": 5
}
